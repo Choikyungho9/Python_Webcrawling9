{
 "cells": [
  {
   "cell_type": "code",
   "execution_count": 6,
   "metadata": {},
   "outputs": [
    {
     "name": "stdout",
     "output_type": "stream",
     "text": [
      "사진을 저장할 폴더를 지정하세요(예: C:\\data_science_202007\\notebook\\data\\0715img) : C:\\data_science_202007\\notebook\\data\\0715img\n"
     ]
    }
   ],
   "source": [
    "#Chap 9-1. 이미지 다운로드용 웹크롤러 만들기\n",
    "# Step 1. 필요한 모듈과 라이브러리를 로딩하고 검색어를 입력 받습니다\n",
    "from bs4 import BeautifulSoup\n",
    "from selenium import webdriver\n",
    "import urllib.request\n",
    "import urllib\n",
    "import time\n",
    "import sys\n",
    "import re\n",
    "import math\n",
    "import os\n",
    "import random\n",
    " \n",
    "f_dir = input('사진을 저장할 폴더를 지정하세요(예: C:\\\\data_science_202007\\\\notebook\\\\data\\\\) : ')\n",
    "query_txt ='사진저장'"
   ]
  },
  {
   "cell_type": "code",
   "execution_count": 7,
   "metadata": {},
   "outputs": [
    {
     "name": "stdout",
     "output_type": "stream",
     "text": [
      "C:\\data_science_202007\\notebook\\data\\0715img2020-07-15-16-26-12-사진저장\n"
     ]
    }
   ],
   "source": [
    "#Step 2. 파일을 저장할 폴더를 생성합니다\n",
    "now = time.localtime()\n",
    "s = '%04d-%02d-%02d-%02d-%02d-%02d' % (now.tm_year, now.tm_mon, now.tm_mday, now.tm_hour, now.tm_min, now.tm_sec)\n",
    " \n",
    "#입력받은 경로+현재날짜_사진저장 이라는 폴더생성\n",
    "os.makedirs(f_dir+s+'-'+query_txt)\n",
    "f_result_dir = f_dir+s+'-'+query_txt\n",
    "#폴더명 출력\n",
    "print(f_result_dir)"
   ]
  },
  {
   "cell_type": "code",
   "execution_count": 8,
   "metadata": {},
   "outputs": [],
   "source": [
    "#Step 3. 크롬 드라이버를 사용해서 웹 브라우저를 실행합니다.\n",
    "path = \"C:/data_science_202007/datadown/chromedriver.exe\"\n",
    "driver = webdriver.Chrome(path)\n",
    " \n",
    "s_time = time.time( )      # 크롤링 시작 시간을 위한 타임 스탬프를 찍습니다\n",
    " \n",
    "driver.get(\"https://korean.visitkorea.or.kr/detail/rem_detail.do?cotid=df3f6275-06a8-4d1c-ae7e-40a2b5276bcd&temp=\")\n",
    "time.sleep(2)  # 페이지가 모두 열릴 때 까지 2초 기다립니다."
   ]
  },
  {
   "cell_type": "code",
   "execution_count": 9,
   "metadata": {},
   "outputs": [],
   "source": [
    "# 학습목표 1: 자동 스크롤다운 함수 만들기\n",
    "# Step 4.  스크롤다운 함수를 생성한 후 실행합니다.\n",
    "def scroll_down(driver):\n",
    "    driver.execute_script(\"window.scrollTo(0,document.body.scrollHeight);\")\n",
    "    time.sleep(1)\n",
    "    \n",
    "scroll_down(driver) "
   ]
  },
  {
   "cell_type": "code",
   "execution_count": 10,
   "metadata": {},
   "outputs": [
    {
     "name": "stdout",
     "output_type": "stream",
     "text": [
      "1 번째 이미지 저장중입니다=======\n",
      "2 번째 이미지 저장중입니다=======\n",
      "3 번째 이미지 저장중입니다=======\n",
      "4 번째 이미지 저장중입니다=======\n",
      "5 번째 이미지 저장중입니다=======\n",
      "6 번째 이미지 저장중입니다=======\n",
      "7 번째 이미지 저장중입니다=======\n",
      "8 번째 이미지 저장중입니다=======\n",
      "9 번째 이미지 저장중입니다=======\n",
      "10 번째 이미지 저장중입니다=======\n",
      "11 번째 이미지 저장중입니다=======\n",
      "12 번째 이미지 저장중입니다=======\n",
      "13 번째 이미지 저장중입니다=======\n",
      "14 번째 이미지 저장중입니다=======\n",
      "15 번째 이미지 저장중입니다=======\n",
      "16 번째 이미지 저장중입니다=======\n",
      "17 번째 이미지 저장중입니다=======\n",
      "18 번째 이미지 저장중입니다=======\n",
      "19 번째 이미지 저장중입니다=======\n",
      "20 번째 이미지 저장중입니다=======\n",
      "21 번째 이미지 저장중입니다=======\n",
      "22 번째 이미지 저장중입니다=======\n",
      "23 번째 이미지 저장중입니다=======\n",
      "24 번째 이미지 저장중입니다=======\n",
      "25 번째 이미지 저장중입니다=======\n",
      "26 번째 이미지 저장중입니다=======\n"
     ]
    }
   ],
   "source": [
    "# 본문의 사진 정보를 가져와서 지정된 폴더에 저장하기    \n",
    "# Step 5. 이미지 추출하여 저장하기 \n",
    " \n",
    "file_no = 0                                \n",
    "count = 1\n",
    "img_src2=[]\n",
    " \n",
    "html = driver.page_source\n",
    "soup = BeautifulSoup(html, 'html.parser')\n",
    "img_src = soup.find('div','box_txtPhoto').find_all('img')\n",
    " \n",
    "for i in img_src :\n",
    "        img_src1=i['src'] #이미지 태그의 src속성값(파일경로및파일명) 가져옴\n",
    "        img_src2.append(img_src1) #리스트에 저장\n",
    "        count += 1\n",
    "\n",
    "os.chdir(f_dir+s+'-'+query_txt) #다운되는 곳의 경로를 생성된 특정 폴더의 경로이동\n",
    "for i in range(0,len(img_src2)) : #리스트 길이 만큼 반복\n",
    "        try :\n",
    "                urllib.request.urlretrieve(img_src2[i],str(file_no)+'.jpg')\n",
    "        except :\n",
    "                continue        \n",
    "        file_no += 1                \n",
    "        time.sleep(0.5)      \n",
    "        print(\"%s 번째 이미지 저장중입니다=======\" %file_no)"
   ]
  },
  {
   "cell_type": "code",
   "execution_count": 11,
   "metadata": {},
   "outputs": [
    {
     "name": "stdout",
     "output_type": "stream",
     "text": [
      "======================================================================\n",
      "총 소요시간은 55.8 초 입니다 \n",
      "총 저장 건수는 26 건 입니다 \n",
      "파일 저장 경로: C:\\data_science_202007\\notebook\\data\\0715img2020-07-15-16-26-12-사진저장 입니다\n",
      "======================================================================\n"
     ]
    }
   ],
   "source": [
    "# Step 6. 요약 정보를 출력합니다                \n",
    "e_time = time.time( )\n",
    "t_time = e_time - s_time\n",
    " \n",
    "store_cnt = file_no -1\n",
    " \n",
    "print(\"=\" *70)\n",
    "print(\"총 소요시간은 %s 초 입니다 \" %round(t_time,1))\n",
    "print(\"총 저장 건수는 %s 건 입니다 \" %file_no)\n",
    "print(\"파일 저장 경로: %s 입니다\" %f_result_dir)\n",
    "print(\"=\" *70)\n",
    " \n",
    "driver.close( )"
   ]
  },
  {
   "cell_type": "code",
   "execution_count": null,
   "metadata": {},
   "outputs": [],
   "source": []
  }
 ],
 "metadata": {
  "kernelspec": {
   "display_name": "pydata",
   "language": "python",
   "name": "pydata"
  },
  "language_info": {
   "codemirror_mode": {
    "name": "ipython",
    "version": 3
   },
   "file_extension": ".py",
   "mimetype": "text/x-python",
   "name": "python",
   "nbconvert_exporter": "python",
   "pygments_lexer": "ipython3",
   "version": "3.7.7"
  }
 },
 "nbformat": 4,
 "nbformat_minor": 4
}
